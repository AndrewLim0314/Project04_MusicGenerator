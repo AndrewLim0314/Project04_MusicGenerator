{
 "cells": [
  {
   "cell_type": "code",
   "id": "a51aa9c4d077e9c9",
   "metadata": {
    "ExecuteTime": {
     "end_time": "2024-12-12T22:21:01.234933Z",
     "start_time": "2024-12-12T22:21:01.232638Z"
    }
   },
   "source": [
    "import pickle\n",
    "import numpy as np\n",
    "import pandas as pd\n",
    "from sklearn.model_selection import train_test_split\n",
    "from sklearn.preprocessing import LabelEncoder\n",
    "import torch\n",
    "from torch.utils.data import DataLoader, TensorDataset\n",
    "import torch.optim as optim\n",
    "import torch.nn as nn\n",
    "from src.models.model import MusicNet"
   ],
   "outputs": [],
   "execution_count": 83
  },
  {
   "metadata": {
    "ExecuteTime": {
     "end_time": "2024-12-12T22:21:01.260066Z",
     "start_time": "2024-12-12T22:21:01.258424Z"
    }
   },
   "cell_type": "code",
   "source": [
    "# Parameters\n",
    "config = {\n",
    "    'seq_length': 50,\n",
    "    'subset_size': 500000,\n",
    "    'batch_size': 512,\n",
    "    'epochs': 50,\n",
    "    'patience': 5\n",
    "}"
   ],
   "id": "178c9f51a62cc30b",
   "outputs": [],
   "execution_count": 84
  },
  {
   "metadata": {
    "ExecuteTime": {
     "end_time": "2024-12-12T22:21:13.718322Z",
     "start_time": "2024-12-12T22:21:01.264487Z"
    }
   },
   "cell_type": "code",
   "source": [
    "# Load and preprocess data\n",
    "with open('../data/processed/Bach_all_songs.pkl', 'rb') as f:\n",
    "    sequences = pickle.load(f)\n",
    "\n",
    "def process_sequences(sequences, seq_length):\n",
    "    X, y = [], []\n",
    "    for sequence in sequences:\n",
    "        # Filter and extract valid events\n",
    "        notes = [event['note'] for event in sequence\n",
    "                 if event['type'] in ['note_on', 'note_off'] and pd.notna(event['note'])]\n",
    "        # Create input-output pairs\n",
    "        X.extend([notes[i:i + seq_length] for i in range(len(notes) - seq_length)])\n",
    "        y.extend([notes[i + seq_length] for i in range(len(notes) - seq_length)])\n",
    "    return np.array(X), np.array(y)\n",
    "\n",
    "X, y = process_sequences(sequences, config['seq_length'])\n",
    "print(f\"Processed data shapes: X={X.shape}, y={y.shape}\")\n"
   ],
   "id": "af2fd59027ab1d3e",
   "outputs": [
    {
     "name": "stdout",
     "output_type": "stream",
     "text": [
      "Processed data shapes: X=(3517360, 50), y=(3517360,)\n"
     ]
    }
   ],
   "execution_count": 85
  },
  {
   "metadata": {
    "ExecuteTime": {
     "end_time": "2024-12-12T22:21:13.961196Z",
     "start_time": "2024-12-12T22:21:13.805412Z"
    }
   },
   "cell_type": "code",
   "source": [
    "# Encode labels\n",
    "encoder = LabelEncoder()\n",
    "y = encoder.fit_transform(y)\n",
    "print(f\"Unique classes: {len(encoder.classes_)}\")"
   ],
   "id": "449ca745ce219076",
   "outputs": [
    {
     "name": "stdout",
     "output_type": "stream",
     "text": [
      "Unique classes: 87\n"
     ]
    }
   ],
   "execution_count": 86
  },
  {
   "metadata": {
    "ExecuteTime": {
     "end_time": "2024-12-12T22:21:14.716314Z",
     "start_time": "2024-12-12T22:21:13.981904Z"
    }
   },
   "cell_type": "code",
   "source": [
    "# Split data\n",
    "X_train, X_val, y_train, y_val = train_test_split(X, y, test_size=0.2, random_state=42)\n",
    "print(f\"Train shapes: X_train={X_train.shape}, y_train={y_train.shape}\")\n",
    "print(f\"Validation shapes: X_val={X_val.shape}, y_val={y_val.shape}\")"
   ],
   "id": "7c4b77976092bba7",
   "outputs": [
    {
     "name": "stdout",
     "output_type": "stream",
     "text": [
      "Train shapes: X_train=(2813888, 50), y_train=(2813888,)\n",
      "Validation shapes: X_val=(703472, 50), y_val=(703472,)\n"
     ]
    }
   ],
   "execution_count": 87
  },
  {
   "metadata": {
    "ExecuteTime": {
     "end_time": "2024-12-12T22:21:15.014633Z",
     "start_time": "2024-12-12T22:21:14.719504Z"
    }
   },
   "cell_type": "code",
   "source": [
    "# Convert to PyTorch tensors and create DataLoaders\n",
    "def create_dataloader(X, y, batch_size):\n",
    "    X_tensor = torch.tensor(X, dtype=torch.float32)\n",
    "    y_tensor = torch.tensor(y, dtype=torch.long)\n",
    "    dataset = TensorDataset(X_tensor, y_tensor)\n",
    "    return DataLoader(dataset, batch_size=batch_size, shuffle=True)\n",
    "\n",
    "train_loader = create_dataloader(X_train, y_train, config['batch_size'])\n",
    "val_loader = create_dataloader(X_val, y_val, config['batch_size'])\n"
   ],
   "id": "b6dcf1e5e86a24e7",
   "outputs": [],
   "execution_count": 88
  },
  {
   "metadata": {
    "ExecuteTime": {
     "end_time": "2024-12-12T22:21:15.040640Z",
     "start_time": "2024-12-12T22:21:15.037780Z"
    }
   },
   "cell_type": "code",
   "source": [
    "# Build the model\n",
    "input_dim = config['seq_length']\n",
    "output_dim = len(encoder.classes_)\n",
    "model = MusicNet(input_dim, output_dim)\n",
    "print(model)"
   ],
   "id": "fe7ace87481498f7",
   "outputs": [
    {
     "name": "stdout",
     "output_type": "stream",
     "text": [
      "MusicNet(\n",
      "  (fc1): Linear(in_features=50, out_features=128, bias=True)\n",
      "  (fc2): Linear(in_features=128, out_features=64, bias=True)\n",
      "  (fc3): Linear(in_features=64, out_features=87, bias=True)\n",
      ")\n"
     ]
    }
   ],
   "execution_count": 89
  },
  {
   "metadata": {
    "ExecuteTime": {
     "end_time": "2024-12-12T22:21:15.046962Z",
     "start_time": "2024-12-12T22:21:15.044112Z"
    }
   },
   "cell_type": "code",
   "source": [
    "# Define loss and optimizer\n",
    "criterion = nn.CrossEntropyLoss()\n",
    "optimizer = torch.optim.Adam(model.parameters(), lr=1e-4)\n"
   ],
   "id": "a2d9203611a7391f",
   "outputs": [],
   "execution_count": 90
  },
  {
   "metadata": {
    "ExecuteTime": {
     "end_time": "2024-12-12T22:34:19.165303Z",
     "start_time": "2024-12-12T22:21:15.061002Z"
    }
   },
   "cell_type": "code",
   "source": [
    "import matplotlib.pyplot as plt\n",
    "\n",
    "# Initialize lists to store losses\n",
    "train_losses = []\n",
    "val_losses = []\n",
    "\n",
    "# Early stopping variables\n",
    "best_val_loss = float('inf')\n",
    "patience_counter = 0\n",
    "best_model_path = \"/Users/25lim/Project04_MusicGenerator/src/results/music_model.pth\"\n",
    "\n",
    "# Training loop\n",
    "for epoch in range(config['epochs']):\n",
    "    model.train()\n",
    "    train_loss = 0\n",
    "\n",
    "    # Training step\n",
    "    for inputs, targets in train_loader:\n",
    "        optimizer.zero_grad()\n",
    "        outputs = model(inputs)\n",
    "        loss = criterion(outputs, targets)\n",
    "        loss.backward()\n",
    "        optimizer.step()\n",
    "        train_loss += loss.item()\n",
    "\n",
    "    # Record training loss\n",
    "    train_losses.append(train_loss / len(train_loader))\n",
    "\n",
    "    # Validation step\n",
    "    model.eval()\n",
    "    val_loss = 0\n",
    "    with torch.no_grad():\n",
    "        for inputs, targets in val_loader:\n",
    "            outputs = model(inputs)\n",
    "            loss = criterion(outputs, targets)\n",
    "            val_loss += loss.item()\n",
    "\n",
    "    scheduler = torch.optim.lr_scheduler.ReduceLROnPlateau(optimizer, mode='min', patience=2)\n",
    "    # Reduce learning rate based on validation loss\n",
    "    scheduler.step(val_loss)\n",
    "\n",
    "\n",
    "    # Record validation loss\n",
    "    val_losses.append(val_loss / len(val_loader))\n",
    "\n",
    "    # Print epoch results\n",
    "    print(f\"Epoch {epoch + 1}/{config['epochs']}, Train Loss: {train_losses[-1]:.4f}\")\n",
    "    print(f\"Validation Loss: {val_losses[-1]:.4f}\")\n",
    "\n",
    "    # Early stopping logic\n",
    "    if val_losses[-1] < best_val_loss:\n",
    "        best_val_loss = val_losses[-1]\n",
    "        patience_counter = 0  # Reset patience counter\n",
    "        # Save the best model\n",
    "        torch.save(model.state_dict(), best_model_path)\n",
    "        print(f\"New best model saved to {best_model_path}\")\n",
    "    else:\n",
    "        patience_counter += 1\n",
    "        print(f\"Early stopping patience: {patience_counter}/{config['patience']}\")\n",
    "\n",
    "    if patience_counter >= config['patience']:\n",
    "        print(\"Early stopping triggered!\")\n",
    "        break\n",
    "\n",
    "# Plot training and validation losses\n",
    "plt.figure(figsize=(10, 6))\n",
    "plt.plot(range(1, len(train_losses) + 1), train_losses, label=\"Train Loss\")\n",
    "plt.plot(range(1, len(val_losses) + 1), val_losses, label=\"Validation Loss\")\n",
    "plt.axhline(y=best_val_loss, color=\"red\", linestyle=\"--\", label=\"Best Validation Loss\")\n",
    "plt.xlabel(\"Epochs\")\n",
    "plt.ylabel(\"Loss\")\n",
    "plt.title(\"Training and Validation Loss\")\n",
    "plt.legend()\n",
    "plt.grid()\n",
    "plt.show()\n",
    "\n",
    "plt.savefig(\"src/results\",dpi=300, bbox_inches=\"tight\")\n",
    "\n",
    "# Save the final model (if not already saved as the best)\n",
    "if patience_counter < config['patience']:\n",
    "    torch.save(model.state_dict(), best_model_path)\n",
    "    print(f\"Final model saved to {best_model_path}\")\n"
   ],
   "id": "44a47397db600d74",
   "outputs": [
    {
     "name": "stdout",
     "output_type": "stream",
     "text": [
      "Epoch 1/50, Train Loss: 3.7913\n",
      "Validation Loss: 3.6785\n",
      "New best model saved to /Users/25lim/Project04_MusicGenerator/src/results/music_model.pth\n",
      "Epoch 2/50, Train Loss: 3.6649\n",
      "Validation Loss: 3.6557\n",
      "New best model saved to /Users/25lim/Project04_MusicGenerator/src/results/music_model.pth\n",
      "Epoch 3/50, Train Loss: 3.6516\n",
      "Validation Loss: 3.6450\n",
      "New best model saved to /Users/25lim/Project04_MusicGenerator/src/results/music_model.pth\n",
      "Epoch 4/50, Train Loss: 3.6410\n",
      "Validation Loss: 3.6360\n",
      "New best model saved to /Users/25lim/Project04_MusicGenerator/src/results/music_model.pth\n",
      "Epoch 5/50, Train Loss: 3.6316\n",
      "Validation Loss: 3.6272\n",
      "New best model saved to /Users/25lim/Project04_MusicGenerator/src/results/music_model.pth\n",
      "Epoch 6/50, Train Loss: 3.6214\n",
      "Validation Loss: 3.6158\n",
      "New best model saved to /Users/25lim/Project04_MusicGenerator/src/results/music_model.pth\n",
      "Epoch 7/50, Train Loss: 3.6092\n",
      "Validation Loss: 3.6058\n",
      "New best model saved to /Users/25lim/Project04_MusicGenerator/src/results/music_model.pth\n",
      "Epoch 8/50, Train Loss: 3.5947\n",
      "Validation Loss: 3.5899\n",
      "New best model saved to /Users/25lim/Project04_MusicGenerator/src/results/music_model.pth\n",
      "Epoch 9/50, Train Loss: 3.5787\n",
      "Validation Loss: 3.5735\n",
      "New best model saved to /Users/25lim/Project04_MusicGenerator/src/results/music_model.pth\n",
      "Epoch 10/50, Train Loss: 3.5637\n",
      "Validation Loss: 3.5627\n",
      "New best model saved to /Users/25lim/Project04_MusicGenerator/src/results/music_model.pth\n",
      "Epoch 11/50, Train Loss: 3.5513\n",
      "Validation Loss: 3.5526\n",
      "New best model saved to /Users/25lim/Project04_MusicGenerator/src/results/music_model.pth\n",
      "Epoch 12/50, Train Loss: 3.5417\n",
      "Validation Loss: 3.5386\n",
      "New best model saved to /Users/25lim/Project04_MusicGenerator/src/results/music_model.pth\n",
      "Epoch 13/50, Train Loss: 3.5339\n",
      "Validation Loss: 3.5280\n",
      "New best model saved to /Users/25lim/Project04_MusicGenerator/src/results/music_model.pth\n",
      "Epoch 14/50, Train Loss: 3.5291\n",
      "Validation Loss: 3.5264\n",
      "New best model saved to /Users/25lim/Project04_MusicGenerator/src/results/music_model.pth\n",
      "Epoch 15/50, Train Loss: 3.5244\n",
      "Validation Loss: 3.5189\n",
      "New best model saved to /Users/25lim/Project04_MusicGenerator/src/results/music_model.pth\n",
      "Epoch 16/50, Train Loss: 3.5213\n",
      "Validation Loss: 3.5157\n",
      "New best model saved to /Users/25lim/Project04_MusicGenerator/src/results/music_model.pth\n",
      "Epoch 17/50, Train Loss: 3.5178\n",
      "Validation Loss: 3.5274\n",
      "Early stopping patience: 1/5\n",
      "Epoch 18/50, Train Loss: 3.5153\n",
      "Validation Loss: 3.5134\n",
      "New best model saved to /Users/25lim/Project04_MusicGenerator/src/results/music_model.pth\n",
      "Epoch 19/50, Train Loss: 3.5131\n",
      "Validation Loss: 3.5091\n",
      "New best model saved to /Users/25lim/Project04_MusicGenerator/src/results/music_model.pth\n",
      "Epoch 20/50, Train Loss: 3.5106\n",
      "Validation Loss: 3.5099\n",
      "Early stopping patience: 1/5\n",
      "Epoch 21/50, Train Loss: 3.5089\n",
      "Validation Loss: 3.5179\n",
      "Early stopping patience: 2/5\n",
      "Epoch 22/50, Train Loss: 3.5061\n",
      "Validation Loss: 3.5135\n",
      "Early stopping patience: 3/5\n",
      "Epoch 23/50, Train Loss: 3.5037\n",
      "Validation Loss: 3.5034\n",
      "New best model saved to /Users/25lim/Project04_MusicGenerator/src/results/music_model.pth\n",
      "Epoch 24/50, Train Loss: 3.5014\n",
      "Validation Loss: 3.4973\n",
      "New best model saved to /Users/25lim/Project04_MusicGenerator/src/results/music_model.pth\n",
      "Epoch 25/50, Train Loss: 3.4989\n",
      "Validation Loss: 3.5334\n",
      "Early stopping patience: 1/5\n",
      "Epoch 26/50, Train Loss: 3.4967\n",
      "Validation Loss: 3.4973\n",
      "Early stopping patience: 2/5\n",
      "Epoch 27/50, Train Loss: 3.4942\n",
      "Validation Loss: 3.5110\n",
      "Early stopping patience: 3/5\n",
      "Epoch 28/50, Train Loss: 3.4912\n",
      "Validation Loss: 3.4863\n",
      "New best model saved to /Users/25lim/Project04_MusicGenerator/src/results/music_model.pth\n",
      "Epoch 29/50, Train Loss: 3.4887\n",
      "Validation Loss: 3.4864\n",
      "Early stopping patience: 1/5\n",
      "Epoch 30/50, Train Loss: 3.4865\n",
      "Validation Loss: 3.4840\n",
      "New best model saved to /Users/25lim/Project04_MusicGenerator/src/results/music_model.pth\n",
      "Epoch 31/50, Train Loss: 3.4836\n",
      "Validation Loss: 3.4832\n",
      "New best model saved to /Users/25lim/Project04_MusicGenerator/src/results/music_model.pth\n",
      "Epoch 32/50, Train Loss: 3.4816\n",
      "Validation Loss: 3.4801\n",
      "New best model saved to /Users/25lim/Project04_MusicGenerator/src/results/music_model.pth\n",
      "Epoch 33/50, Train Loss: 3.4801\n",
      "Validation Loss: 3.4803\n",
      "Early stopping patience: 1/5\n",
      "Epoch 34/50, Train Loss: 3.4775\n",
      "Validation Loss: 3.4822\n",
      "Early stopping patience: 2/5\n",
      "Epoch 35/50, Train Loss: 3.4758\n",
      "Validation Loss: 3.4721\n",
      "New best model saved to /Users/25lim/Project04_MusicGenerator/src/results/music_model.pth\n",
      "Epoch 36/50, Train Loss: 3.4747\n",
      "Validation Loss: 3.4800\n",
      "Early stopping patience: 1/5\n",
      "Epoch 37/50, Train Loss: 3.4728\n",
      "Validation Loss: 3.4760\n",
      "Early stopping patience: 2/5\n",
      "Epoch 38/50, Train Loss: 3.4715\n",
      "Validation Loss: 3.4698\n",
      "New best model saved to /Users/25lim/Project04_MusicGenerator/src/results/music_model.pth\n",
      "Epoch 39/50, Train Loss: 3.4701\n",
      "Validation Loss: 3.4719\n",
      "Early stopping patience: 1/5\n",
      "Epoch 40/50, Train Loss: 3.4691\n",
      "Validation Loss: 3.4694\n",
      "New best model saved to /Users/25lim/Project04_MusicGenerator/src/results/music_model.pth\n",
      "Epoch 41/50, Train Loss: 3.4679\n",
      "Validation Loss: 3.4675\n",
      "New best model saved to /Users/25lim/Project04_MusicGenerator/src/results/music_model.pth\n",
      "Epoch 42/50, Train Loss: 3.4667\n",
      "Validation Loss: 3.4756\n",
      "Early stopping patience: 1/5\n",
      "Epoch 43/50, Train Loss: 3.4654\n",
      "Validation Loss: 3.4632\n",
      "New best model saved to /Users/25lim/Project04_MusicGenerator/src/results/music_model.pth\n",
      "Epoch 44/50, Train Loss: 3.4650\n",
      "Validation Loss: 3.4853\n",
      "Early stopping patience: 1/5\n",
      "Epoch 45/50, Train Loss: 3.4636\n",
      "Validation Loss: 3.4623\n",
      "New best model saved to /Users/25lim/Project04_MusicGenerator/src/results/music_model.pth\n",
      "Epoch 46/50, Train Loss: 3.4630\n",
      "Validation Loss: 3.4687\n",
      "Early stopping patience: 1/5\n",
      "Epoch 47/50, Train Loss: 3.4620\n",
      "Validation Loss: 3.4611\n",
      "New best model saved to /Users/25lim/Project04_MusicGenerator/src/results/music_model.pth\n",
      "Epoch 48/50, Train Loss: 3.4607\n",
      "Validation Loss: 3.4574\n",
      "New best model saved to /Users/25lim/Project04_MusicGenerator/src/results/music_model.pth\n",
      "Epoch 49/50, Train Loss: 3.4598\n",
      "Validation Loss: 3.4772\n",
      "Early stopping patience: 1/5\n",
      "Epoch 50/50, Train Loss: 3.4591\n",
      "Validation Loss: 3.4670\n",
      "Early stopping patience: 2/5\n"
     ]
    },
    {
     "data": {
      "text/plain": [
       "<Figure size 1000x600 with 1 Axes>"
      ],
      "image/png": "[encoded data removed]"
     },
     "metadata": {},
     "output_type": "display_data"
    },
    {
     "ename": "FileNotFoundError",
     "evalue": "[Errno 2] No such file or directory: '/Users/25lim/Project04_MusicGenerator/src/training/results/loss_plot_v1.png'",
     "output_type": "error",
     "traceback": [
      "\u001B[0;31m---------------------------------------------------------------------------\u001B[0m",
      "\u001B[0;31mFileNotFoundError\u001B[0m                         Traceback (most recent call last)",
      "Cell \u001B[0;32mIn[91], line 77\u001B[0m\n\u001B[1;32m     74\u001B[0m plt\u001B[38;5;241m.\u001B[39mgrid()\n\u001B[1;32m     75\u001B[0m plt\u001B[38;5;241m.\u001B[39mshow()\n\u001B[0;32m---> 77\u001B[0m \u001B[43mplt\u001B[49m\u001B[38;5;241;43m.\u001B[39;49m\u001B[43msavefig\u001B[49m\u001B[43m(\u001B[49m\u001B[38;5;124;43m\"\u001B[39;49m\u001B[38;5;124;43mresults/loss_plot_v1.png\u001B[39;49m\u001B[38;5;124;43m\"\u001B[39;49m\u001B[43m,\u001B[49m\u001B[43mdpi\u001B[49m\u001B[38;5;241;43m=\u001B[39;49m\u001B[38;5;241;43m300\u001B[39;49m\u001B[43m,\u001B[49m\u001B[43m \u001B[49m\u001B[43mbbox_inches\u001B[49m\u001B[38;5;241;43m=\u001B[39;49m\u001B[38;5;124;43m\"\u001B[39;49m\u001B[38;5;124;43mtight\u001B[39;49m\u001B[38;5;124;43m\"\u001B[39;49m\u001B[43m)\u001B[49m\n\u001B[1;32m     79\u001B[0m \u001B[38;5;66;03m# Save the final model (if not already saved as the best)\u001B[39;00m\n\u001B[1;32m     80\u001B[0m \u001B[38;5;28;01mif\u001B[39;00m patience_counter \u001B[38;5;241m<\u001B[39m config[\u001B[38;5;124m'\u001B[39m\u001B[38;5;124mpatience\u001B[39m\u001B[38;5;124m'\u001B[39m]:\n",
      "File \u001B[0;32m~/Project04_MusicGenerator/.venv/lib/python3.12/site-packages/matplotlib/pyplot.py:1228\u001B[0m, in \u001B[0;36msavefig\u001B[0;34m(*args, **kwargs)\u001B[0m\n\u001B[1;32m   1225\u001B[0m fig \u001B[38;5;241m=\u001B[39m gcf()\n\u001B[1;32m   1226\u001B[0m \u001B[38;5;66;03m# savefig default implementation has no return, so mypy is unhappy\u001B[39;00m\n\u001B[1;32m   1227\u001B[0m \u001B[38;5;66;03m# presumably this is here because subclasses can return?\u001B[39;00m\n\u001B[0;32m-> 1228\u001B[0m res \u001B[38;5;241m=\u001B[39m \u001B[43mfig\u001B[49m\u001B[38;5;241;43m.\u001B[39;49m\u001B[43msavefig\u001B[49m\u001B[43m(\u001B[49m\u001B[38;5;241;43m*\u001B[39;49m\u001B[43margs\u001B[49m\u001B[43m,\u001B[49m\u001B[43m \u001B[49m\u001B[38;5;241;43m*\u001B[39;49m\u001B[38;5;241;43m*\u001B[39;49m\u001B[43mkwargs\u001B[49m\u001B[43m)\u001B[49m  \u001B[38;5;66;03m# type: ignore[func-returns-value]\u001B[39;00m\n\u001B[1;32m   1229\u001B[0m fig\u001B[38;5;241m.\u001B[39mcanvas\u001B[38;5;241m.\u001B[39mdraw_idle()  \u001B[38;5;66;03m# Need this if 'transparent=True', to reset colors.\u001B[39;00m\n\u001B[1;32m   1230\u001B[0m \u001B[38;5;28;01mreturn\u001B[39;00m res\n",
      "File \u001B[0;32m~/Project04_MusicGenerator/.venv/lib/python3.12/site-packages/matplotlib/figure.py:3395\u001B[0m, in \u001B[0;36mFigure.savefig\u001B[0;34m(self, fname, transparent, **kwargs)\u001B[0m\n\u001B[1;32m   3393\u001B[0m     \u001B[38;5;28;01mfor\u001B[39;00m ax \u001B[38;5;129;01min\u001B[39;00m \u001B[38;5;28mself\u001B[39m\u001B[38;5;241m.\u001B[39maxes:\n\u001B[1;32m   3394\u001B[0m         _recursively_make_axes_transparent(stack, ax)\n\u001B[0;32m-> 3395\u001B[0m \u001B[38;5;28;43mself\u001B[39;49m\u001B[38;5;241;43m.\u001B[39;49m\u001B[43mcanvas\u001B[49m\u001B[38;5;241;43m.\u001B[39;49m\u001B[43mprint_figure\u001B[49m\u001B[43m(\u001B[49m\u001B[43mfname\u001B[49m\u001B[43m,\u001B[49m\u001B[43m \u001B[49m\u001B[38;5;241;43m*\u001B[39;49m\u001B[38;5;241;43m*\u001B[39;49m\u001B[43mkwargs\u001B[49m\u001B[43m)\u001B[49m\n",
      "File \u001B[0;32m~/Project04_MusicGenerator/.venv/lib/python3.12/site-packages/matplotlib/backend_bases.py:2204\u001B[0m, in \u001B[0;36mFigureCanvasBase.print_figure\u001B[0;34m(self, filename, dpi, facecolor, edgecolor, orientation, format, bbox_inches, pad_inches, bbox_extra_artists, backend, **kwargs)\u001B[0m\n\u001B[1;32m   2200\u001B[0m \u001B[38;5;28;01mtry\u001B[39;00m:\n\u001B[1;32m   2201\u001B[0m     \u001B[38;5;66;03m# _get_renderer may change the figure dpi (as vector formats\u001B[39;00m\n\u001B[1;32m   2202\u001B[0m     \u001B[38;5;66;03m# force the figure dpi to 72), so we need to set it again here.\u001B[39;00m\n\u001B[1;32m   2203\u001B[0m     \u001B[38;5;28;01mwith\u001B[39;00m cbook\u001B[38;5;241m.\u001B[39m_setattr_cm(\u001B[38;5;28mself\u001B[39m\u001B[38;5;241m.\u001B[39mfigure, dpi\u001B[38;5;241m=\u001B[39mdpi):\n\u001B[0;32m-> 2204\u001B[0m         result \u001B[38;5;241m=\u001B[39m \u001B[43mprint_method\u001B[49m\u001B[43m(\u001B[49m\n\u001B[1;32m   2205\u001B[0m \u001B[43m            \u001B[49m\u001B[43mfilename\u001B[49m\u001B[43m,\u001B[49m\n\u001B[1;32m   2206\u001B[0m \u001B[43m            \u001B[49m\u001B[43mfacecolor\u001B[49m\u001B[38;5;241;43m=\u001B[39;49m\u001B[43mfacecolor\u001B[49m\u001B[43m,\u001B[49m\n\u001B[1;32m   2207\u001B[0m \u001B[43m            \u001B[49m\u001B[43medgecolor\u001B[49m\u001B[38;5;241;43m=\u001B[39;49m\u001B[43medgecolor\u001B[49m\u001B[43m,\u001B[49m\n\u001B[1;32m   2208\u001B[0m \u001B[43m            \u001B[49m\u001B[43morientation\u001B[49m\u001B[38;5;241;43m=\u001B[39;49m\u001B[43morientation\u001B[49m\u001B[43m,\u001B[49m\n\u001B[1;32m   2209\u001B[0m \u001B[43m            \u001B[49m\u001B[43mbbox_inches_restore\u001B[49m\u001B[38;5;241;43m=\u001B[39;49m\u001B[43m_bbox_inches_restore\u001B[49m\u001B[43m,\u001B[49m\n\u001B[1;32m   2210\u001B[0m \u001B[43m            \u001B[49m\u001B[38;5;241;43m*\u001B[39;49m\u001B[38;5;241;43m*\u001B[39;49m\u001B[43mkwargs\u001B[49m\u001B[43m)\u001B[49m\n\u001B[1;32m   2211\u001B[0m \u001B[38;5;28;01mfinally\u001B[39;00m:\n\u001B[1;32m   2212\u001B[0m     \u001B[38;5;28;01mif\u001B[39;00m bbox_inches \u001B[38;5;129;01mand\u001B[39;00m restore_bbox:\n",
      "File \u001B[0;32m~/Project04_MusicGenerator/.venv/lib/python3.12/site-packages/matplotlib/backend_bases.py:2054\u001B[0m, in \u001B[0;36mFigureCanvasBase._switch_canvas_and_return_print_method.<locals>.<lambda>\u001B[0;34m(*args, **kwargs)\u001B[0m\n\u001B[1;32m   2050\u001B[0m     optional_kws \u001B[38;5;241m=\u001B[39m {  \u001B[38;5;66;03m# Passed by print_figure for other renderers.\u001B[39;00m\n\u001B[1;32m   2051\u001B[0m         \u001B[38;5;124m\"\u001B[39m\u001B[38;5;124mdpi\u001B[39m\u001B[38;5;124m\"\u001B[39m, \u001B[38;5;124m\"\u001B[39m\u001B[38;5;124mfacecolor\u001B[39m\u001B[38;5;124m\"\u001B[39m, \u001B[38;5;124m\"\u001B[39m\u001B[38;5;124medgecolor\u001B[39m\u001B[38;5;124m\"\u001B[39m, \u001B[38;5;124m\"\u001B[39m\u001B[38;5;124morientation\u001B[39m\u001B[38;5;124m\"\u001B[39m,\n\u001B[1;32m   2052\u001B[0m         \u001B[38;5;124m\"\u001B[39m\u001B[38;5;124mbbox_inches_restore\u001B[39m\u001B[38;5;124m\"\u001B[39m}\n\u001B[1;32m   2053\u001B[0m     skip \u001B[38;5;241m=\u001B[39m optional_kws \u001B[38;5;241m-\u001B[39m {\u001B[38;5;241m*\u001B[39minspect\u001B[38;5;241m.\u001B[39msignature(meth)\u001B[38;5;241m.\u001B[39mparameters}\n\u001B[0;32m-> 2054\u001B[0m     print_method \u001B[38;5;241m=\u001B[39m functools\u001B[38;5;241m.\u001B[39mwraps(meth)(\u001B[38;5;28;01mlambda\u001B[39;00m \u001B[38;5;241m*\u001B[39margs, \u001B[38;5;241m*\u001B[39m\u001B[38;5;241m*\u001B[39mkwargs: \u001B[43mmeth\u001B[49m\u001B[43m(\u001B[49m\n\u001B[1;32m   2055\u001B[0m \u001B[43m        \u001B[49m\u001B[38;5;241;43m*\u001B[39;49m\u001B[43margs\u001B[49m\u001B[43m,\u001B[49m\u001B[43m \u001B[49m\u001B[38;5;241;43m*\u001B[39;49m\u001B[38;5;241;43m*\u001B[39;49m\u001B[43m{\u001B[49m\u001B[43mk\u001B[49m\u001B[43m:\u001B[49m\u001B[43m \u001B[49m\u001B[43mv\u001B[49m\u001B[43m \u001B[49m\u001B[38;5;28;43;01mfor\u001B[39;49;00m\u001B[43m \u001B[49m\u001B[43mk\u001B[49m\u001B[43m,\u001B[49m\u001B[43m \u001B[49m\u001B[43mv\u001B[49m\u001B[43m \u001B[49m\u001B[38;5;129;43;01min\u001B[39;49;00m\u001B[43m \u001B[49m\u001B[43mkwargs\u001B[49m\u001B[38;5;241;43m.\u001B[39;49m\u001B[43mitems\u001B[49m\u001B[43m(\u001B[49m\u001B[43m)\u001B[49m\u001B[43m \u001B[49m\u001B[38;5;28;43;01mif\u001B[39;49;00m\u001B[43m \u001B[49m\u001B[43mk\u001B[49m\u001B[43m \u001B[49m\u001B[38;5;129;43;01mnot\u001B[39;49;00m\u001B[43m \u001B[49m\u001B[38;5;129;43;01min\u001B[39;49;00m\u001B[43m \u001B[49m\u001B[43mskip\u001B[49m\u001B[43m}\u001B[49m\u001B[43m)\u001B[49m)\n\u001B[1;32m   2056\u001B[0m \u001B[38;5;28;01melse\u001B[39;00m:  \u001B[38;5;66;03m# Let third-parties do as they see fit.\u001B[39;00m\n\u001B[1;32m   2057\u001B[0m     print_method \u001B[38;5;241m=\u001B[39m meth\n",
      "File \u001B[0;32m~/Project04_MusicGenerator/.venv/lib/python3.12/site-packages/matplotlib/backends/backend_agg.py:496\u001B[0m, in \u001B[0;36mFigureCanvasAgg.print_png\u001B[0;34m(self, filename_or_obj, metadata, pil_kwargs)\u001B[0m\n\u001B[1;32m    449\u001B[0m \u001B[38;5;28;01mdef\u001B[39;00m \u001B[38;5;21mprint_png\u001B[39m(\u001B[38;5;28mself\u001B[39m, filename_or_obj, \u001B[38;5;241m*\u001B[39m, metadata\u001B[38;5;241m=\u001B[39m\u001B[38;5;28;01mNone\u001B[39;00m, pil_kwargs\u001B[38;5;241m=\u001B[39m\u001B[38;5;28;01mNone\u001B[39;00m):\n\u001B[1;32m    450\u001B[0m \u001B[38;5;250m    \u001B[39m\u001B[38;5;124;03m\"\"\"\u001B[39;00m\n\u001B[1;32m    451\u001B[0m \u001B[38;5;124;03m    Write the figure to a PNG file.\u001B[39;00m\n\u001B[1;32m    452\u001B[0m \n\u001B[0;32m   (...)\u001B[0m\n\u001B[1;32m    494\u001B[0m \u001B[38;5;124;03m        *metadata*, including the default 'Software' key.\u001B[39;00m\n\u001B[1;32m    495\u001B[0m \u001B[38;5;124;03m    \"\"\"\u001B[39;00m\n\u001B[0;32m--> 496\u001B[0m     \u001B[38;5;28;43mself\u001B[39;49m\u001B[38;5;241;43m.\u001B[39;49m\u001B[43m_print_pil\u001B[49m\u001B[43m(\u001B[49m\u001B[43mfilename_or_obj\u001B[49m\u001B[43m,\u001B[49m\u001B[43m \u001B[49m\u001B[38;5;124;43m\"\u001B[39;49m\u001B[38;5;124;43mpng\u001B[39;49m\u001B[38;5;124;43m\"\u001B[39;49m\u001B[43m,\u001B[49m\u001B[43m \u001B[49m\u001B[43mpil_kwargs\u001B[49m\u001B[43m,\u001B[49m\u001B[43m \u001B[49m\u001B[43mmetadata\u001B[49m\u001B[43m)\u001B[49m\n",
      "File \u001B[0;32m~/Project04_MusicGenerator/.venv/lib/python3.12/site-packages/matplotlib/backends/backend_agg.py:445\u001B[0m, in \u001B[0;36mFigureCanvasAgg._print_pil\u001B[0;34m(self, filename_or_obj, fmt, pil_kwargs, metadata)\u001B[0m\n\u001B[1;32m    440\u001B[0m \u001B[38;5;250m\u001B[39m\u001B[38;5;124;03m\"\"\"\u001B[39;00m\n\u001B[1;32m    441\u001B[0m \u001B[38;5;124;03mDraw the canvas, then save it using `.image.imsave` (to which\u001B[39;00m\n\u001B[1;32m    442\u001B[0m \u001B[38;5;124;03m*pil_kwargs* and *metadata* are forwarded).\u001B[39;00m\n\u001B[1;32m    443\u001B[0m \u001B[38;5;124;03m\"\"\"\u001B[39;00m\n\u001B[1;32m    444\u001B[0m FigureCanvasAgg\u001B[38;5;241m.\u001B[39mdraw(\u001B[38;5;28mself\u001B[39m)\n\u001B[0;32m--> 445\u001B[0m \u001B[43mmpl\u001B[49m\u001B[38;5;241;43m.\u001B[39;49m\u001B[43mimage\u001B[49m\u001B[38;5;241;43m.\u001B[39;49m\u001B[43mimsave\u001B[49m\u001B[43m(\u001B[49m\n\u001B[1;32m    446\u001B[0m \u001B[43m    \u001B[49m\u001B[43mfilename_or_obj\u001B[49m\u001B[43m,\u001B[49m\u001B[43m \u001B[49m\u001B[38;5;28;43mself\u001B[39;49m\u001B[38;5;241;43m.\u001B[39;49m\u001B[43mbuffer_rgba\u001B[49m\u001B[43m(\u001B[49m\u001B[43m)\u001B[49m\u001B[43m,\u001B[49m\u001B[43m \u001B[49m\u001B[38;5;28;43mformat\u001B[39;49m\u001B[38;5;241;43m=\u001B[39;49m\u001B[43mfmt\u001B[49m\u001B[43m,\u001B[49m\u001B[43m \u001B[49m\u001B[43morigin\u001B[49m\u001B[38;5;241;43m=\u001B[39;49m\u001B[38;5;124;43m\"\u001B[39;49m\u001B[38;5;124;43mupper\u001B[39;49m\u001B[38;5;124;43m\"\u001B[39;49m\u001B[43m,\u001B[49m\n\u001B[1;32m    447\u001B[0m \u001B[43m    \u001B[49m\u001B[43mdpi\u001B[49m\u001B[38;5;241;43m=\u001B[39;49m\u001B[38;5;28;43mself\u001B[39;49m\u001B[38;5;241;43m.\u001B[39;49m\u001B[43mfigure\u001B[49m\u001B[38;5;241;43m.\u001B[39;49m\u001B[43mdpi\u001B[49m\u001B[43m,\u001B[49m\u001B[43m \u001B[49m\u001B[43mmetadata\u001B[49m\u001B[38;5;241;43m=\u001B[39;49m\u001B[43mmetadata\u001B[49m\u001B[43m,\u001B[49m\u001B[43m \u001B[49m\u001B[43mpil_kwargs\u001B[49m\u001B[38;5;241;43m=\u001B[39;49m\u001B[43mpil_kwargs\u001B[49m\u001B[43m)\u001B[49m\n",
      "File \u001B[0;32m~/Project04_MusicGenerator/.venv/lib/python3.12/site-packages/matplotlib/image.py:1676\u001B[0m, in \u001B[0;36mimsave\u001B[0;34m(fname, arr, vmin, vmax, cmap, format, origin, dpi, metadata, pil_kwargs)\u001B[0m\n\u001B[1;32m   1674\u001B[0m pil_kwargs\u001B[38;5;241m.\u001B[39msetdefault(\u001B[38;5;124m\"\u001B[39m\u001B[38;5;124mformat\u001B[39m\u001B[38;5;124m\"\u001B[39m, \u001B[38;5;28mformat\u001B[39m)\n\u001B[1;32m   1675\u001B[0m pil_kwargs\u001B[38;5;241m.\u001B[39msetdefault(\u001B[38;5;124m\"\u001B[39m\u001B[38;5;124mdpi\u001B[39m\u001B[38;5;124m\"\u001B[39m, (dpi, dpi))\n\u001B[0;32m-> 1676\u001B[0m \u001B[43mimage\u001B[49m\u001B[38;5;241;43m.\u001B[39;49m\u001B[43msave\u001B[49m\u001B[43m(\u001B[49m\u001B[43mfname\u001B[49m\u001B[43m,\u001B[49m\u001B[43m \u001B[49m\u001B[38;5;241;43m*\u001B[39;49m\u001B[38;5;241;43m*\u001B[39;49m\u001B[43mpil_kwargs\u001B[49m\u001B[43m)\u001B[49m\n",
      "File \u001B[0;32m~/Project04_MusicGenerator/.venv/lib/python3.12/site-packages/PIL/Image.py:2600\u001B[0m, in \u001B[0;36mImage.save\u001B[0;34m(self, fp, format, **params)\u001B[0m\n\u001B[1;32m   2598\u001B[0m         fp \u001B[38;5;241m=\u001B[39m builtins\u001B[38;5;241m.\u001B[39mopen(filename, \u001B[38;5;124m\"\u001B[39m\u001B[38;5;124mr+b\u001B[39m\u001B[38;5;124m\"\u001B[39m)\n\u001B[1;32m   2599\u001B[0m     \u001B[38;5;28;01melse\u001B[39;00m:\n\u001B[0;32m-> 2600\u001B[0m         fp \u001B[38;5;241m=\u001B[39m \u001B[43mbuiltins\u001B[49m\u001B[38;5;241;43m.\u001B[39;49m\u001B[43mopen\u001B[49m\u001B[43m(\u001B[49m\u001B[43mfilename\u001B[49m\u001B[43m,\u001B[49m\u001B[43m \u001B[49m\u001B[38;5;124;43m\"\u001B[39;49m\u001B[38;5;124;43mw+b\u001B[39;49m\u001B[38;5;124;43m\"\u001B[39;49m\u001B[43m)\u001B[49m\n\u001B[1;32m   2601\u001B[0m \u001B[38;5;28;01melse\u001B[39;00m:\n\u001B[1;32m   2602\u001B[0m     fp \u001B[38;5;241m=\u001B[39m cast(IO[\u001B[38;5;28mbytes\u001B[39m], fp)\n",
      "\u001B[0;31mFileNotFoundError\u001B[0m: [Errno 2] No such file or directory: '/Users/25lim/Project04_MusicGenerator/src/training/results/loss_plot_v1.png'"
     ]
    },
    {
     "data": {
      "text/plain": [
       "<Figure size 640x480 with 0 Axes>"
      ]
     },
     "metadata": {},
     "output_type": "display_data"
    }
   ],
   "execution_count": 91
  },
  {
   "metadata": {
    "ExecuteTime": {
     "end_time": "2024-12-12T22:36:24.197699Z",
     "start_time": "2024-12-12T22:36:22.136202Z"
    }
   },
   "cell_type": "code",
   "source": [
    "# Load the best model with weights_only=True\n",
    "state_dict = torch.load(best_model_path, weights_only=True)\n",
    "model.load_state_dict(state_dict)\n",
    "model.eval()\n",
    "\n",
    "# Evaluate on validation data\n",
    "val_loss = 0\n",
    "with torch.no_grad():\n",
    "    for inputs, targets in val_loader:\n",
    "        outputs = model(inputs)\n",
    "        loss = criterion(outputs, targets)\n",
    "        val_loss += loss.item()\n",
    "\n",
    "print(f\"Final Validation Loss of Best Model: {val_loss / len(val_loader):.4f}\")\n"
   ],
   "id": "f21ed5b95d7589df",
   "outputs": [
    {
     "name": "stdout",
     "output_type": "stream",
     "text": [
      "Final Validation Loss of Best Model: 3.4574\n"
     ]
    }
   ],
   "execution_count": 92
  },
  {
   "metadata": {
    "ExecuteTime": {
     "end_time": "2024-12-12T22:36:26.198722Z",
     "start_time": "2024-12-12T22:36:26.176478Z"
    }
   },
   "cell_type": "code",
   "source": [
    "sample_input = X_val[:1]  # Take one sequence from validation data\n",
    "model.eval()\n",
    "with torch.no_grad():\n",
    "    output = model(torch.tensor(sample_input, dtype=torch.float32))\n",
    "    predicted_note = torch.argmax(output, dim=1).item()\n",
    "print(f\"Predicted note: {predicted_note}\")\n"
   ],
   "id": "d29cb501d87ff96d",
   "outputs": [
    {
     "name": "stdout",
     "output_type": "stream",
     "text": [
      "Predicted note: 60\n"
     ]
    }
   ],
   "execution_count": 93
  },
  {
   "metadata": {
    "ExecuteTime": {
     "end_time": "2024-12-12T22:48:49.133984Z",
     "start_time": "2024-12-12T22:48:49.115769Z"
    }
   },
   "cell_type": "code",
   "source": [
    "state_dict = torch.load(best_model_path, weights_only=True)\n",
    "for param_tensor in state_dict:\n",
    "    print(f\"{param_tensor}: {state_dict[param_tensor].size()}\")\n"
   ],
   "id": "907bb73de93c4589",
   "outputs": [
    {
     "name": "stdout",
     "output_type": "stream",
     "text": [
      "fc1.weight: torch.Size([128, 50])\n",
      "fc1.bias: torch.Size([128])\n",
      "fc2.weight: torch.Size([64, 128])\n",
      "fc2.bias: torch.Size([64])\n",
      "fc3.weight: torch.Size([87, 64])\n",
      "fc3.bias: torch.Size([87])\n"
     ]
    }
   ],
   "execution_count": 94
  }
 ],
 "metadata": {
  "kernelspec": {
   "display_name": "Python 3",
   "language": "python",
   "name": "python3"
  },
  "language_info": {
   "codemirror_mode": {
    "name": "ipython",
    "version": 2
   },
   "file_extension": ".py",
   "mimetype": "text/x-python",
   "name": "python",
   "nbconvert_exporter": "python",
   "pygments_lexer": "ipython2",
   "version": "2.7.6"
  }
 },
 "nbformat": 4,
 "nbformat_minor": 5
}
